{
  "cells": [
    {
      "cell_type": "code",
      "execution_count": null,
      "metadata": {
        "id": "Tvku8C0QeLjU"
      },
      "outputs": [],
      "source": [
        "import math\n",
        "import numpy as np\n",
        "import pandas as pd\n",
        "import cvxpy as cvx\n",
        "from cvxopt import matrix\n",
        "from cvxopt.modeling import variable\n",
        "from cvxopt.modeling import op"
      ]
    },
    {
      "attachments": {},
      "cell_type": "markdown",
      "metadata": {
        "id": "QpIpxw2BkY6x"
      },
      "source": [
        "## Exercise 3: Matching for a Dating Platform"
      ]
    },
    {
      "cell_type": "code",
      "execution_count": null,
      "metadata": {
        "colab": {
          "base_uri": "https://localhost:8080/",
          "height": 242
        },
        "id": "5at_G54TkZja",
        "outputId": "45967f14-f3a1-4187-adb8-ca5842278095"
      },
      "outputs": [
        {
          "name": "stderr",
          "output_type": "stream",
          "text": [
            "/usr/local/lib/python3.10/dist-packages/openpyxl/worksheet/_reader.py:312: UserWarning: Unknown extension is not supported and will be removed\n",
            "  warn(msg)\n"
          ]
        },
        {
          "data": {
            "text/html": [
              "\n",
              "  <div id=\"df-5b2e9a9c-a42e-4e04-a567-527c6e9d28a3\">\n",
              "    <div class=\"colab-df-container\">\n",
              "      <div>\n",
              "<style scoped>\n",
              "    .dataframe tbody tr th:only-of-type {\n",
              "        vertical-align: middle;\n",
              "    }\n",
              "\n",
              "    .dataframe tbody tr th {\n",
              "        vertical-align: top;\n",
              "    }\n",
              "\n",
              "    .dataframe thead th {\n",
              "        text-align: right;\n",
              "    }\n",
              "</style>\n",
              "<table border=\"1\" class=\"dataframe\">\n",
              "  <thead>\n",
              "    <tr style=\"text-align: right;\">\n",
              "      <th></th>\n",
              "      <th>Name</th>\n",
              "      <th>Gender</th>\n",
              "      <th>Sports</th>\n",
              "      <th>Theater</th>\n",
              "      <th>Religion</th>\n",
              "      <th>Outdoors</th>\n",
              "      <th>Eating Out</th>\n",
              "    </tr>\n",
              "  </thead>\n",
              "  <tbody>\n",
              "    <tr>\n",
              "      <th>0</th>\n",
              "      <td>Laura</td>\n",
              "      <td>Female</td>\n",
              "      <td>0</td>\n",
              "      <td>2</td>\n",
              "      <td>-1</td>\n",
              "      <td>0</td>\n",
              "      <td>2</td>\n",
              "    </tr>\n",
              "    <tr>\n",
              "      <th>1</th>\n",
              "      <td>Jennifer</td>\n",
              "      <td>Female</td>\n",
              "      <td>0</td>\n",
              "      <td>2</td>\n",
              "      <td>-1</td>\n",
              "      <td>-1</td>\n",
              "      <td>1</td>\n",
              "    </tr>\n",
              "    <tr>\n",
              "      <th>2</th>\n",
              "      <td>Emma</td>\n",
              "      <td>Female</td>\n",
              "      <td>2</td>\n",
              "      <td>-1</td>\n",
              "      <td>2</td>\n",
              "      <td>0</td>\n",
              "      <td>2</td>\n",
              "    </tr>\n",
              "    <tr>\n",
              "      <th>3</th>\n",
              "      <td>Olivia</td>\n",
              "      <td>Female</td>\n",
              "      <td>0</td>\n",
              "      <td>2</td>\n",
              "      <td>0</td>\n",
              "      <td>1</td>\n",
              "      <td>1</td>\n",
              "    </tr>\n",
              "    <tr>\n",
              "      <th>4</th>\n",
              "      <td>Martha</td>\n",
              "      <td>Female</td>\n",
              "      <td>0</td>\n",
              "      <td>-1</td>\n",
              "      <td>-1</td>\n",
              "      <td>0</td>\n",
              "      <td>0</td>\n",
              "    </tr>\n",
              "  </tbody>\n",
              "</table>\n",
              "</div>\n",
              "      <button class=\"colab-df-convert\" onclick=\"convertToInteractive('df-5b2e9a9c-a42e-4e04-a567-527c6e9d28a3')\"\n",
              "              title=\"Convert this dataframe to an interactive table.\"\n",
              "              style=\"display:none;\">\n",
              "        \n",
              "  <svg xmlns=\"http://www.w3.org/2000/svg\" height=\"24px\"viewBox=\"0 0 24 24\"\n",
              "       width=\"24px\">\n",
              "    <path d=\"M0 0h24v24H0V0z\" fill=\"none\"/>\n",
              "    <path d=\"M18.56 5.44l.94 2.06.94-2.06 2.06-.94-2.06-.94-.94-2.06-.94 2.06-2.06.94zm-11 1L8.5 8.5l.94-2.06 2.06-.94-2.06-.94L8.5 2.5l-.94 2.06-2.06.94zm10 10l.94 2.06.94-2.06 2.06-.94-2.06-.94-.94-2.06-.94 2.06-2.06.94z\"/><path d=\"M17.41 7.96l-1.37-1.37c-.4-.4-.92-.59-1.43-.59-.52 0-1.04.2-1.43.59L10.3 9.45l-7.72 7.72c-.78.78-.78 2.05 0 2.83L4 21.41c.39.39.9.59 1.41.59.51 0 1.02-.2 1.41-.59l7.78-7.78 2.81-2.81c.8-.78.8-2.07 0-2.86zM5.41 20L4 18.59l7.72-7.72 1.47 1.35L5.41 20z\"/>\n",
              "  </svg>\n",
              "      </button>\n",
              "      \n",
              "  <style>\n",
              "    .colab-df-container {\n",
              "      display:flex;\n",
              "      flex-wrap:wrap;\n",
              "      gap: 12px;\n",
              "    }\n",
              "\n",
              "    .colab-df-convert {\n",
              "      background-color: #E8F0FE;\n",
              "      border: none;\n",
              "      border-radius: 50%;\n",
              "      cursor: pointer;\n",
              "      display: none;\n",
              "      fill: #1967D2;\n",
              "      height: 32px;\n",
              "      padding: 0 0 0 0;\n",
              "      width: 32px;\n",
              "    }\n",
              "\n",
              "    .colab-df-convert:hover {\n",
              "      background-color: #E2EBFA;\n",
              "      box-shadow: 0px 1px 2px rgba(60, 64, 67, 0.3), 0px 1px 3px 1px rgba(60, 64, 67, 0.15);\n",
              "      fill: #174EA6;\n",
              "    }\n",
              "\n",
              "    [theme=dark] .colab-df-convert {\n",
              "      background-color: #3B4455;\n",
              "      fill: #D2E3FC;\n",
              "    }\n",
              "\n",
              "    [theme=dark] .colab-df-convert:hover {\n",
              "      background-color: #434B5C;\n",
              "      box-shadow: 0px 1px 3px 1px rgba(0, 0, 0, 0.15);\n",
              "      filter: drop-shadow(0px 1px 2px rgba(0, 0, 0, 0.3));\n",
              "      fill: #FFFFFF;\n",
              "    }\n",
              "  </style>\n",
              "\n",
              "      <script>\n",
              "        const buttonEl =\n",
              "          document.querySelector('#df-5b2e9a9c-a42e-4e04-a567-527c6e9d28a3 button.colab-df-convert');\n",
              "        buttonEl.style.display =\n",
              "          google.colab.kernel.accessAllowed ? 'block' : 'none';\n",
              "\n",
              "        async function convertToInteractive(key) {\n",
              "          const element = document.querySelector('#df-5b2e9a9c-a42e-4e04-a567-527c6e9d28a3');\n",
              "          const dataTable =\n",
              "            await google.colab.kernel.invokeFunction('convertToInteractive',\n",
              "                                                     [key], {});\n",
              "          if (!dataTable) return;\n",
              "\n",
              "          const docLinkHtml = 'Like what you see? Visit the ' +\n",
              "            '<a target=\"_blank\" href=https://colab.research.google.com/notebooks/data_table.ipynb>data table notebook</a>'\n",
              "            + ' to learn more about interactive tables.';\n",
              "          element.innerHTML = '';\n",
              "          dataTable['output_type'] = 'display_data';\n",
              "          await google.colab.output.renderOutput(dataTable, element);\n",
              "          const docLink = document.createElement('div');\n",
              "          docLink.innerHTML = docLinkHtml;\n",
              "          element.appendChild(docLink);\n",
              "        }\n",
              "      </script>\n",
              "    </div>\n",
              "  </div>\n",
              "  "
            ],
            "text/plain": [
              "       Name  Gender  Sports  Theater  Religion  Outdoors  Eating Out\n",
              "0     Laura  Female       0        2        -1         0           2\n",
              "1  Jennifer  Female       0        2        -1        -1           1\n",
              "2      Emma  Female       2       -1         2         0           2\n",
              "3    Olivia  Female       0        2         0         1           1\n",
              "4    Martha  Female       0       -1        -1         0           0"
            ]
          },
          "execution_count": 5,
          "metadata": {},
          "output_type": "execute_result"
        }
      ],
      "source": [
        "OD = pd.read_excel('OD.xlsx')\n",
        "OD.head()"
      ]
    },
    {
      "cell_type": "code",
      "execution_count": null,
      "metadata": {
        "id": "ZYhc8ixJ8dVf"
      },
      "outputs": [],
      "source": [
        "# data preprocessing\n",
        "female = OD[OD['Gender'] == 'Female'].reset_index()\n",
        "female_score = female.iloc[:, 3:]\n",
        "male = OD[OD['Gender'] == 'Male'].reset_index()\n",
        "male_score = male.iloc[:, 3:]\n",
        "\n",
        "female_score = np.array(female_score)\n",
        "male_score = np.array(male_score)"
      ]
    },
    {
      "attachments": {},
      "cell_type": "markdown",
      "metadata": {
        "id": "WDGI_QWX_TSv"
      },
      "source": [
        "1. Assume all of the individuals in the data set would like to be matched to people of the opposite gender. What matches would you choose to maximize the aggregate match score?"
      ]
    },
    {
      "cell_type": "code",
      "execution_count": null,
      "metadata": {
        "colab": {
          "base_uri": "https://localhost:8080/"
        },
        "id": "XzSat2zF7Se4",
        "outputId": "759f9df5-7f3c-4a31-829f-efdfbac030da"
      },
      "outputs": [
        {
          "data": {
            "text/plain": [
              "0     James\n",
              "1    Robert\n",
              "2     Peter\n",
              "3      Eric\n",
              "4    Daniel\n",
              "5      Adam\n",
              "6      Carl\n",
              "7     Ralph\n",
              "Name: Name, dtype: object"
            ]
          },
          "execution_count": 20,
          "metadata": {},
          "output_type": "execute_result"
        }
      ],
      "source": [
        "male['Name']"
      ]
    },
    {
      "cell_type": "code",
      "execution_count": null,
      "metadata": {
        "colab": {
          "base_uri": "https://localhost:8080/"
        },
        "id": "xrR1gdKN-K9E",
        "outputId": "c87514a2-dff6-4c7a-fe0e-a09a056ba845"
      },
      "outputs": [
        {
          "name": "stdout",
          "output_type": "stream",
          "text": [
            "Total match score: 48.00\n",
            "Match: James and Mary\n",
            "Match: Robert and Sophia\n",
            "Match: Peter and Olivia\n",
            "Match: Eric and Martha\n",
            "Match: Daniel and Emma\n",
            "Match: Adam and Jennifer\n",
            "Match: Carl and Laura\n",
            "Match: Ralph and Isabella\n"
          ]
        }
      ],
      "source": [
        "# definition of the variables\n",
        "matches = cvx.Variable((male.shape[0], female.shape[0]), boolean = True)\n",
        "\n",
        "# definition of the constraints\n",
        "constraints = [\n",
        "    cvx.sum(matches, axis=1) == 1,\n",
        "    cvx.sum(matches, axis=0) == 1\n",
        "]\n",
        "\n",
        "# definition of the objective function\n",
        "obj = cvx.Maximize(cvx.sum(cvx.multiply(matches, male_score @ female_score.T)))\n",
        "\n",
        "# solving the problem\n",
        "prob = cvx.Problem(obj, constraints)\n",
        "prob.solve()\n",
        "\n",
        "print(f'Total match score: {prob.value:.2f}')\n",
        "for i, j in np.argwhere(matches.value):\n",
        "  print('Match:', male['Name'].iloc[i], 'and', female['Name'].iloc[j])"
      ]
    },
    {
      "attachments": {},
      "cell_type": "markdown",
      "metadata": {
        "id": "IsHx3kMc_VfJ"
      },
      "source": [
        "2. How would the results change if each person is presented with two possible matches?"
      ]
    },
    {
      "cell_type": "code",
      "execution_count": null,
      "metadata": {
        "colab": {
          "base_uri": "https://localhost:8080/"
        },
        "id": "p7a-NhzD-L6K",
        "outputId": "c8517f20-4c07-40ea-dbc8-db078257e919"
      },
      "outputs": [
        {
          "name": "stdout",
          "output_type": "stream",
          "text": [
            "Total match score: 82.00\n",
            "James top matches:\n",
            "  Mary\n",
            "  Emma\n",
            "Robert top matches:\n",
            "  Sophia\n",
            "  Jennifer\n",
            "Peter top matches:\n",
            "  Mary\n",
            "  Isabella\n",
            "Eric top matches:\n",
            "  Sophia\n",
            "  Martha\n",
            "Daniel top matches:\n",
            "  Martha\n",
            "  Emma\n",
            "Adam top matches:\n",
            "  Jennifer\n",
            "  Laura\n",
            "Carl top matches:\n",
            "  Olivia\n",
            "  Laura\n",
            "Ralph top matches:\n",
            "  Isabella\n",
            "  Olivia\n"
          ]
        }
      ],
      "source": [
        "# definition of the variables\n",
        "matches = cvx.Variable((male.shape[0], female.shape[0]), boolean = True)\n",
        "\n",
        "# definition of the constraints\n",
        "constraints = [\n",
        "    cvx.sum(matches, axis=1) == 2,\n",
        "    cvx.sum(matches, axis=0) == 2,\n",
        "]\n",
        "\n",
        "# definition of the objective function\n",
        "obj = cvx.Maximize(cvx.sum(cvx.multiply(matches, male_score @ female_score.T)))\n",
        "\n",
        "# solving the problem\n",
        "prob = cvx.Problem(obj, constraints)\n",
        "prob.solve()\n",
        "\n",
        "print(f'Total match score: {prob.value:.2f}')\n",
        "for i in range(8):\n",
        "    top2_matches = np.argsort(matches.value[i])[::-1][:2]\n",
        "    print(male['Name'].iloc[i], 'top matches:')\n",
        "    for j in top2_matches:\n",
        "        print(' ', female['Name'].iloc[j])"
      ]
    }
  ],
  "metadata": {
    "colab": {
      "provenance": []
    },
    "kernelspec": {
      "display_name": "Python 3",
      "name": "python3"
    },
    "language_info": {
      "name": "python"
    }
  },
  "nbformat": 4,
  "nbformat_minor": 0
}
