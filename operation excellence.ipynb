{
  "cells": [
    {
      "cell_type": "code",
      "execution_count": null,
      "metadata": {
        "id": "Tvku8C0QeLjU"
      },
      "outputs": [],
      "source": [
        "import math\n",
        "import numpy as np\n",
        "import pandas as pd\n",
        "import cvxpy as cvx\n",
        "from cvxopt import matrix\n",
        "from cvxopt.modeling import variable\n",
        "from cvxopt.modeling import op"
      ]
    },
    {
      "attachments": {},
      "cell_type": "markdown",
      "metadata": {
        "id": "5G97bO4id08B"
      },
      "source": [
        "## Exercise 1: Operations Excellence"
      ]
    },
    {
      "attachments": {},
      "cell_type": "markdown",
      "metadata": {
        "id": "B1F4kg2Bd9Jh"
      },
      "source": [
        "1. Write the optimization models for each plant, i.e., make sure to detail the decision variables, the objective function and the constraints.\n",
        "2. Provide the optimal solutions and profit levels for each factory. Give the values of the decision variables and the optimal objective function value."
      ]
    },
    {
      "attachments": {},
      "cell_type": "markdown",
      "metadata": {
        "id": "REaZPnaFj0dQ"
      },
      "source": [
        "> Plant A"
      ]
    },
    {
      "attachments": {},
      "cell_type": "markdown",
      "metadata": {
        "id": "08LT8p3qEfeP"
      },
      "source": [
        "**Decision Variables:**\n",
        "\n",
        "$x_{11}$: the number of units of the \"standard\" product produced in plant A.\n",
        "\n",
        "$x_{12}$: the number of units of the \"deluxe\" product produced in plant A.\n",
        "\n",
        "**Objective Function:**\n",
        "\n",
        "Maximize the profit $(x_{11} × 10 + x_{12} × 15)$\n",
        "\n",
        "**Constraints:**\n",
        "\n",
        "- The grinding capacity constraint for plant A, which states that the total grinding time required for producing the products cannot exceed 80 hours per week.\n",
        "- The polishing capacity constraint for plant A, which states that the total polishing time required for producing the products cannot exceed 60 hours per week.\n",
        "- The raw available constraint for plant A, which states that the total raw required for producing the products cannot exceed 75 kg per week.\n",
        "- Non-negativity constraint on the decision variable $x_{11}$.\n",
        "- Non-negativity constraint on the decision variable $x_{12}$."
      ]
    },
    {
      "cell_type": "code",
      "execution_count": null,
      "metadata": {
        "colab": {
          "base_uri": "https://localhost:8080/"
        },
        "id": "t-vx8RO3jaLT",
        "outputId": "f022f09e-c0cf-4944-a802-55b39b22c53f"
      },
      "outputs": [
        {
          "name": "stdout",
          "output_type": "stream",
          "text": [
            "Optimal revenue:\n",
            "220.0\n",
            "Number of production in plant A:\n",
            "Standard: [10.]\n",
            "Deluxe: [8.]\n"
          ]
        }
      ],
      "source": [
        "# definition of the variables\n",
        "x11 = cvx.Variable(1, integer = True) # standard A\n",
        "x12 = cvx.Variable(1, integer = True) # deluxe A\n",
        "\n",
        "# definition of the constraints\n",
        "c1 = (4*x11 + 2*x12 <= 80)\n",
        "c2 = (2*x11 + 5*x12 <= 60)\n",
        "c3 = (4*x11 + 4*x12 <= 75)\n",
        "c4 = (x11 >= 0)\n",
        "c5 = (x12 >= 0)\n",
        "\n",
        "con = [c1, c2, c3, c4, c5]\n",
        "\n",
        "# definition of the objective function\n",
        "OF = (x11*10 + x12*15)\n",
        "objective = cvx.Maximize(OF)\n",
        "\n",
        "# Solving the problem\n",
        "prob = cvx.Problem(objective, con)\n",
        "result = prob.solve()\n",
        "print('Optimal revenue:')\n",
        "print(round(prob.value,2))\n",
        "\n",
        "print('Number of production in plant A:')\n",
        "print(f'Standard: {x11.value}')\n",
        "print(f'Deluxe: {x12.value}')"
      ]
    },
    {
      "attachments": {},
      "cell_type": "markdown",
      "metadata": {
        "id": "XQVmQPG_j6Ap"
      },
      "source": [
        "> Plant B"
      ]
    },
    {
      "attachments": {},
      "cell_type": "markdown",
      "metadata": {
        "id": "viVrXnBaFGzw"
      },
      "source": [
        "**Decision Variables:**\n",
        "\n",
        "$x_{21}$: the number of units of the \"standard\" product produced in plant B.\n",
        "\n",
        "$x_{22}$: the number of units of the \"deluxe\" product produced in plant B.\n",
        "\n",
        "**Objective Function:**\n",
        "\n",
        "Maximize the profit $(x_{21} × 10 + x_{22} × 15)$\n",
        "\n",
        "**Constraints:**\n",
        "\n",
        "- The grinding capacity constraint for plant B, which states that the total grinding time required for producing the products cannot exceed 60 hours per week.\n",
        "- The polishing capacity constraint for plant B, which states that the total polishing time required for producing the products cannot exceed 75 hours per week.\n",
        "- The raw available constraint for plant B, which states that the total raw required for producing the products cannot exceed 45 kg per week.\n",
        "- Non-negativity constraint on the decision variable $x_{21}$.\n",
        "- Non-negativity constraint on the decision variable $x_{22}$."
      ]
    },
    {
      "cell_type": "code",
      "execution_count": null,
      "metadata": {
        "colab": {
          "base_uri": "https://localhost:8080/"
        },
        "id": "8qGfKOezj5wn",
        "outputId": "ba481f35-4df1-431e-f027-6bfed7429e3a"
      },
      "outputs": [
        {
          "name": "stdout",
          "output_type": "stream",
          "text": [
            "Optimal revenue:\n",
            "165.0\n",
            "Number of production in plant B:\n",
            "Standard: [0.]\n",
            "Deluxe: [11.]\n"
          ]
        }
      ],
      "source": [
        "# definition of the variables\n",
        "x21 = cvx.Variable(1, integer = True) # standard B\n",
        "x22 = cvx.Variable(1, integer = True) # deluxe B\n",
        "\n",
        "# definition of the constraints\n",
        "c1 = (5*x21 + 3*x22 <= 60)\n",
        "c2 = (5*x21 + 6*x22 <= 75)\n",
        "c3 = (4*x21 + 4*x22 <= 45)\n",
        "c4 = (x21 >= 0)\n",
        "c5 = (x22 >= 0)\n",
        "\n",
        "con = [c1, c2, c3, c4, c5]\n",
        "\n",
        "# definition of the objective function\n",
        "OF = (x21*10 + x22*15)\n",
        "objective = cvx.Maximize(OF)\n",
        "\n",
        "# Solving the problem\n",
        "prob = cvx.Problem(objective, con)\n",
        "result = prob.solve()\n",
        "print('Optimal revenue:')\n",
        "print(round(prob.value, 2))\n",
        "\n",
        "print('Number of production in plant B:')\n",
        "print(f'Standard: {x21.value}')\n",
        "print(f'Deluxe: {x22.value}')"
      ]
    },
    {
      "attachments": {},
      "cell_type": "markdown",
      "metadata": {
        "id": "1A_x6TaijVAa"
      },
      "source": [
        "3. Now, write the optimization model for the joint optimization of Plant A and B, and provide the optimal solution and profit levels."
      ]
    },
    {
      "cell_type": "code",
      "execution_count": null,
      "metadata": {
        "colab": {
          "base_uri": "https://localhost:8080/"
        },
        "id": "v2oIZaYIdnpS",
        "outputId": "fea5944a-054b-4bc5-9fe1-f30e0ebdd077"
      },
      "outputs": [
        {
          "name": "stdout",
          "output_type": "stream",
          "text": [
            "Optimal revenue:\n",
            "400.0\n",
            "Number of production in plant A:\n",
            "Standard: [10.]\n",
            "Deluxe: [8.]\n",
            "Number of production in plant B:\n",
            "Standard: [0.]\n",
            "Deluxe: [12.]\n"
          ]
        }
      ],
      "source": [
        "# definition of the variables\n",
        "x11 = cvx.Variable(1, integer = True) # standard A\n",
        "x12 = cvx.Variable(1, integer = True) # deluxe A\n",
        "x21 = cvx.Variable(1, integer = True) # standard B\n",
        "x22 = cvx.Variable(1, integer = True) # deluxe B\n",
        "\n",
        "# definition of the constraints\n",
        "c1 = (4*x11 + 2*x12 <= 80)\n",
        "c2 = (2*x11 + 5*x12 <= 60)\n",
        "c3 = (5*x21 + 3*x22 <= 60)\n",
        "c4 = (5*x21 + 6*x22 <= 75)\n",
        "c5 = (4*x11 + 4*x12 + 4*x21 + 4*x22 <= 120)\n",
        "c6 = (x11 >= 0)\n",
        "c7 = (x12 >= 0)\n",
        "c8 = (x21 >= 0)\n",
        "c9 = (x22 >= 0)\n",
        "\n",
        "con = [c1, c2, c3, c4, c5, c6, c7, c8, c9]\n",
        "\n",
        "# definition of the objective function\n",
        "OF = ((x11 + x21)*10 + (x12 + x22)*15)\n",
        "objective = cvx.Maximize(OF)\n",
        "\n",
        "# solving the problem\n",
        "prob = cvx.Problem(objective, con)\n",
        "result = prob.solve()\n",
        "print('Optimal revenue:')\n",
        "print(round(prob.value, 2))\n",
        "\n",
        "print('Number of production in plant A:')\n",
        "print(f'Standard: {x11.value}')\n",
        "print(f'Deluxe: {x12.value}')\n",
        "print('Number of production in plant B:')\n",
        "print(f'Standard: {x21.value}')\n",
        "print(f'Deluxe: {x22.value}')"
      ]
    },
    {
      "attachments": {},
      "cell_type": "markdown",
      "metadata": {
        "id": "bTY9MiN8jaxy"
      },
      "source": [
        "4. Please comment on the results? How do they compare to the results obtained in Question 2."
      ]
    },
    {
      "attachments": {},
      "cell_type": "markdown",
      "metadata": {
        "id": "7muoWhcKkR0s"
      },
      "source": [
        "> Joint optimization of production in both plants results in higher revenue compared to the no-joint optimization approach. This is because joint optimization considers raw distribution for both plants, resulting in an optimal production plan. In contrast, the no-joint optimization approach considers each plant separately, leading to suboptimal production plans and lower revenue. Therefore, the joint optimization approach is more effective in maximizing revenue."
      ]
    },
    {
      "attachments": {},
      "cell_type": "markdown",
      "metadata": {
        "id": "d6ilx0u9kRDI"
      },
      "source": [
        "5. In one paragraph (no more than 300 words), detail the recommendations you would provide to the CEO of the company to improve the firm’s operations?"
      ]
    },
    {
      "attachments": {},
      "cell_type": "markdown",
      "metadata": {
        "id": "Rq466PUOkSgF"
      },
      "source": [
        "> One possible recommendation to improve the firm's operations is to invest in upgrading the machines and processes in plant B, which has lower capacity and longer processing times compared to plant A. This could lead to an increase in the production capacity and efficiency of plant B, which could ultimately increase the overall profitability of the company. \n",
        "\n",
        "> Another recommendation is to explore the possibility of sourcing additional raw material to increase the total availability, which could allow both plants to increase their production levels and generate more profit. Additionally, it might be beneficial to analyze the current product mix and determine if there is a better combination of standard and deluxe products that would increase overall profitability. \n",
        "\n",
        "> This analysis could involve evaluating customer demand, pricing strategies, and production costs. Finally, optimizing the allocation of resources between the two plants could also improve the overall profitability of the company. For example, if plant B has excess capacity in one process, it might be more efficient to shift some of the production of that product to plant A, which has a higher capacity for that process. In general, a thorough analysis of the current production processes, customer demand, and resource allocation could help identify areas for improvement and lead to more efficient and profitable operations for the company."
      ]
    }
  ],
  "metadata": {
    "colab": {
      "provenance": []
    },
    "kernelspec": {
      "display_name": "Python 3",
      "name": "python3"
    },
    "language_info": {
      "name": "python"
    }
  },
  "nbformat": 4,
  "nbformat_minor": 0
}
